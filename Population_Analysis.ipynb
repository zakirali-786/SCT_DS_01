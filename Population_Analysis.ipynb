{
 "cells": [
  {
   "cell_type": "code",
   "execution_count": 1,
   "id": "e73e289c-80dc-42c8-bcee-a62cef18711f",
   "metadata": {},
   "outputs": [],
   "source": [
    "import pandas as pd"
   ]
  },
  {
   "cell_type": "code",
   "execution_count": 2,
   "id": "ad9824fd-0c79-46d4-981b-bae524c39fe0",
   "metadata": {},
   "outputs": [
    {
     "data": {
      "text/plain": [
       "Index(['Sl No', 'State/UT', 'Population[50]', 'Percent (%)', 'Male', 'Female',\n",
       "       'Difference between male and female', 'Sex ratio', 'Rural[51]',\n",
       "       'Urban[51]', 'Area[52] (km2)', 'Density (per km2)'],\n",
       "      dtype='object')"
      ]
     },
     "execution_count": 2,
     "metadata": {},
     "output_type": "execute_result"
    }
   ],
   "source": [
    "df = pd.read_csv(r\"C:\\Users\\DELL\\.cache\\kagglehub\\datasets\\rdatta871\\population-of-india\\versions\\1\\Population of India.csv\")\n",
    "df.columns"
   ]
  },
  {
   "cell_type": "code",
   "execution_count": 3,
   "id": "55e45efd-5d2c-4a3b-966b-1f97f9e7444c",
   "metadata": {},
   "outputs": [
    {
     "name": "stdout",
     "output_type": "stream",
     "text": [
      "<class 'pandas.core.frame.DataFrame'>\n",
      "RangeIndex: 37 entries, 0 to 36\n",
      "Data columns (total 12 columns):\n",
      " #   Column                              Non-Null Count  Dtype  \n",
      "---  ------                              --------------  -----  \n",
      " 0   Sl No                               37 non-null     object \n",
      " 1   State/UT                            37 non-null     object \n",
      " 2   Population[50]                      37 non-null     int64  \n",
      " 3   Percent (%)                         37 non-null     float64\n",
      " 4   Male                                37 non-null     int64  \n",
      " 5   Female                              37 non-null     int64  \n",
      " 6   Difference between male and female  37 non-null     object \n",
      " 7   Sex ratio                           37 non-null     int64  \n",
      " 8   Rural[51]                           37 non-null     int64  \n",
      " 9   Urban[51]                           37 non-null     int64  \n",
      " 10  Area[52] (km2)                      37 non-null     int64  \n",
      " 11  Density (per km2)                   37 non-null     int64  \n",
      "dtypes: float64(1), int64(8), object(3)\n",
      "memory usage: 3.6+ KB\n"
     ]
    }
   ],
   "source": [
    "# basic view and information...\n",
    "\n",
    "df.head()\n",
    "\n",
    "df.info()"
   ]
  },
  {
   "cell_type": "code",
   "execution_count": 4,
   "id": "f0b5abf5-b608-44ce-9120-cd84cb53a706",
   "metadata": {},
   "outputs": [
    {
     "name": "stdout",
     "output_type": "stream",
     "text": [
      "Sl No                                  object\n",
      "State/UT                               object\n",
      "Population[50]                          int64\n",
      "Percent (%)                           float64\n",
      "Male                                    int64\n",
      "Female                                  int64\n",
      "Difference between male and female     object\n",
      "Sex ratio                               int64\n",
      "Rural[51]                               int64\n",
      "Urban[51]                               int64\n",
      "Area[52] (km2)                          int64\n",
      "Density (per km2)                       int64\n",
      "dtype: object\n"
     ]
    }
   ],
   "source": [
    "# checking null values...\n",
    "\n",
    "df.isnull().sum()\n",
    "\n",
    "#  checking data type of each column..\n",
    "\n",
    "print(df.dtypes)"
   ]
  },
  {
   "cell_type": "code",
   "execution_count": 5,
   "id": "beac7066-50d6-4f0f-a626-2604d10c5aa1",
   "metadata": {},
   "outputs": [
    {
     "data": {
      "text/plain": [
       "Index(['Sl No', 'State/UT', 'Population[50]', 'Percent (%)', 'Male', 'Female',\n",
       "       'Difference between male and female', 'Sex ratio', 'Rural[51]',\n",
       "       'Urban[51]', 'Area[52] (km2)', 'Density (per km2)'],\n",
       "      dtype='object')"
      ]
     },
     "execution_count": 5,
     "metadata": {},
     "output_type": "execute_result"
    }
   ],
   "source": [
    "df.columns"
   ]
  },
  {
   "cell_type": "code",
   "execution_count": null,
   "id": "7ac165a1-31c8-40a6-ba75-b3b66b76bf93",
   "metadata": {},
   "outputs": [],
   "source": [
    "# converting columns name to lower alphabatic order...\n",
    "\n",
    "df.columns = df.columns.str.lower().str.replace(\" \",\"_\")"
   ]
  },
  {
   "cell_type": "code",
   "execution_count": 11,
   "id": "8cc61424-aacc-4adf-b5db-1e305c0e5132",
   "metadata": {},
   "outputs": [
    {
     "data": {
      "image/png": "[encoded data removed]",
      "text/plain": [
       "<Figure size 1200x600 with 1 Axes>"
      ]
     },
     "metadata": {},
     "output_type": "display_data"
    }
   ],
   "source": [
    "plt.figure(figsize=(12,6))\n",
    "sns.barplot(data=df, x=\"state/ut\", y=\"population[50]\")\n",
    "plt.xticks(rotation=90)\n",
    "plt.title(\"Population by State/UT\")\n",
    "plt.show()"
   ]
  },
  {
   "cell_type": "code",
   "execution_count": 8,
   "id": "41c22a58-15e1-43f3-b8bd-63e3814ed82f",
   "metadata": {},
   "outputs": [],
   "source": [
    "import seaborn as sns\n",
    "import matplotlib.pyplot as plt"
   ]
  },
  {
   "cell_type": "code",
   "execution_count": null,
   "id": "54bfcfa1-4633-4df3-9dc3-8f9d0c0043c9",
   "metadata": {},
   "outputs": [],
   "source": [
    "df.info()"
   ]
  },
  {
   "cell_type": "code",
   "execution_count": null,
   "id": "737855d0-ceaf-4e29-b5d0-95ce93fab424",
   "metadata": {
    "scrolled": true
   },
   "outputs": [],
   "source": [
    "# visualising continous variable of data\n",
    "\n",
    "df['state/ut'].unique()"
   ]
  },
  {
   "cell_type": "code",
   "execution_count": null,
   "id": "173a9fd3-fb2d-43c3-9b0a-e49513b104d6",
   "metadata": {},
   "outputs": [],
   "source": [
    "# state vs sex ratio....\n",
    "\n",
    "plt.figure(figsize=(12,6))\n",
    "sns.barplot(data=df, x=\"state/ut\", y=\"sex_ratio\")\n",
    "plt.xticks(rotation=90)\n",
    "plt.title(\"sex ratio by State/UT\")\n",
    "plt.show()"
   ]
  },
  {
   "cell_type": "code",
   "execution_count": null,
   "id": "a541c67c-fafb-4886-b479-9adf917a132f",
   "metadata": {},
   "outputs": [],
   "source": [
    "# state/ut vs density_(per_km2)\n",
    "\n",
    "plt.figure(figsize=(12,6))\n",
    "sns.barplot(data=df, x=\"state/ut\", y=\"density_(per_km2)\")\n",
    "plt.xticks(rotation=90)\n",
    "plt.title(\"density_(per_km2) by State/UT\")\n",
    "plt.show()"
   ]
  },
  {
   "cell_type": "code",
   "execution_count": null,
   "id": "05975f68-7fc4-467e-a295-0b537f387ffa",
   "metadata": {},
   "outputs": [],
   "source": [
    "# state vs population....\n",
    "\n",
    "plt.figure(figsize=(14,6))\n",
    "ax = sns.barplot(data=df, x=\"state/ut\", y=\"population[50]\", palette=\"viridis\")\n",
    "\n",
    "# Rotate labels for readability\n",
    "plt.xticks(rotation=75, ha='right')\n",
    "\n",
    "# Add labels on top of bars\n",
    "for p in ax.patches:\n",
    "    ax.annotate(\n",
    "        f'{int(p.get_height()):,}',   # format with commas\n",
    "        (p.get_x() + p.get_width() / 2., p.get_height()),\n",
    "        ha='center', va='bottom',\n",
    "        fontsize=10, rotation=90, color=\"black\"\n",
    "    )\n",
    "\n",
    "plt.title(\"Population by State/UT\", fontsize=16, fontweight=\"bold\")\n",
    "plt.xlabel(\"State/UT\")\n",
    "plt.ylabel(\"Population\")\n",
    "plt.tight_layout()\n",
    "plt.show()"
   ]
  },
  {
   "cell_type": "code",
   "execution_count": null,
   "id": "c7ad2f76-7c22-461e-ac40-7beb1779593e",
   "metadata": {},
   "outputs": [],
   "source": [
    "plt.figure(figsize=(8,5))\n",
    "sns.histplot(df['population[50]'], bins=20, kde=True)\n",
    "plt.title(\"Distribution of Population Density\")\n",
    "plt.show()"
   ]
  },
  {
   "cell_type": "code",
   "execution_count": null,
   "id": "10ee9085-d67c-4b3f-b38d-2c077a7e9f39",
   "metadata": {},
   "outputs": [],
   "source": [
    "plt.figure(figsize=(8,5))\n",
    "sns.histplot(df['male'], bins=20, color=\"blue\", label=\"Male\", kde=True)\n",
    "sns.histplot(df['female'], bins=20, color=\"red\", label=\"Female\", kde=True)\n",
    "\n",
    "plt.title(\"Distribution of Male vs Female Population\")\n",
    "plt.xlabel(\"Population\")\n",
    "plt.ylabel(\"Frequency\")\n",
    "plt.legend()\n",
    "plt.show()"
   ]
  },
  {
   "cell_type": "code",
   "execution_count": null,
   "id": "737df9ae-c95e-40a7-a80e-28bd9895e198",
   "metadata": {},
   "outputs": [],
   "source": [
    "df['percent_(%)']"
   ]
  },
  {
   "cell_type": "code",
   "execution_count": null,
   "id": "6b18a7b6-3314-4bd6-ba32-37d9bbc0178d",
   "metadata": {},
   "outputs": [],
   "source": [
    "plt.figure(figsize=(19,10))\n",
    "plt.pie(x='percent_(%)',data=df,labels='state/ut',autopct=\"%1.1f%%\")\n",
    "plt.title('state wise population percentage',fontsize=20)\n",
    "plt.show()"
   ]
  },
  {
   "cell_type": "code",
   "execution_count": null,
   "id": "94f49ff7-d94d-4b11-8cb1-b076535d12a0",
   "metadata": {},
   "outputs": [],
   "source": [
    "df.head(1)"
   ]
  },
  {
   "cell_type": "code",
   "execution_count": null,
   "id": "4a669455-6583-43fd-afb0-b8c121a3eddc",
   "metadata": {},
   "outputs": [],
   "source": [
    "# rural population vs state...\n",
    "\n",
    "plt.figure(figsize=(14,6))\n",
    "ax = sns.barplot(data=df, x=\"state/ut\", y=\"rural[51]\", palette=\"viridis\")\n",
    "\n",
    "# Rotate labels for readability\n",
    "plt.xticks(rotation=75, ha='right')\n",
    "\n",
    "# Add labels on top of bars\n",
    "for p in ax.patches:\n",
    "    ax.annotate(\n",
    "        f'{int(p.get_height()):,}',   # format with commas\n",
    "        (p.get_x() + p.get_width() / 2., p.get_height()),\n",
    "        ha='center', va='bottom',\n",
    "        fontsize=10, rotation=90, color=\"black\"\n",
    "    )\n",
    "\n",
    "plt.title(\"rural population by State/UT\", fontsize=16, fontweight=\"bold\")\n",
    "plt.xlabel(\"State/UT\")\n",
    "plt.ylabel(\"rural population\")\n",
    "plt.tight_layout()\n",
    "plt.show()"
   ]
  },
  {
   "cell_type": "code",
   "execution_count": null,
   "id": "21a645a8-8a6d-4ab7-8290-9a686ae7493f",
   "metadata": {},
   "outputs": [],
   "source": [
    "# state vs urban population...\n",
    "\n",
    "plt.figure(figsize=(14,6))\n",
    "ax = sns.barplot(data=df, x=\"state/ut\", y=\"urban[51]\", palette=\"viridis\")\n",
    "\n",
    "# Rotate labels for readability\n",
    "plt.xticks(rotation=75, ha='right')\n",
    "\n",
    "# Add labels on top of bars\n",
    "for p in ax.patches:\n",
    "    ax.annotate(\n",
    "        f'{int(p.get_height()):,}',   # format with commas\n",
    "        (p.get_x() + p.get_width() / 2., p.get_height()),\n",
    "        ha='center', va='bottom',\n",
    "        fontsize=10, rotation=90, color=\"black\"\n",
    "    )\n",
    "\n",
    "plt.title(\"Urban population by State/UT\", fontsize=16, fontweight=\"bold\")\n",
    "plt.xlabel(\"State/UT\")\n",
    "plt.ylabel(\"Urban population\")\n",
    "plt.tight_layout()\n",
    "plt.show()"
   ]
  },
  {
   "cell_type": "code",
   "execution_count": null,
   "id": "85e48c65-eb34-4030-8402-b9873e45ef96",
   "metadata": {},
   "outputs": [],
   "source": [
    "df.head()"
   ]
  }
 ],
 "metadata": {
  "kernelspec": {
   "display_name": "Python 3 (ipykernel)",
   "language": "python",
   "name": "python3"
  },
  "language_info": {
   "codemirror_mode": {
    "name": "ipython",
    "version": 3
   },
   "file_extension": ".py",
   "mimetype": "text/x-python",
   "name": "python",
   "nbconvert_exporter": "python",
   "pygments_lexer": "ipython3",
   "version": "3.13.5"
  }
 },
 "nbformat": 4,
 "nbformat_minor": 5
}
